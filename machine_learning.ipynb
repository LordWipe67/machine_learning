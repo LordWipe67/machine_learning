{
  "nbformat": 4,
  "nbformat_minor": 0,
  "metadata": {
    "colab": {
      "provenance": [],
      "authorship_tag": "ABX9TyN3NgW4euWBWBqN2YgRPryc",
      "include_colab_link": true
    },
    "kernelspec": {
      "name": "python3",
      "display_name": "Python 3"
    },
    "language_info": {
      "name": "python"
    },
    "gpuClass": "standard",
    "accelerator": "GPU"
  },
  "cells": [
    {
      "cell_type": "markdown",
      "metadata": {
        "id": "view-in-github",
        "colab_type": "text"
      },
      "source": [
        "<a href=\"https://colab.research.google.com/github/LordWipe67/machine_learning/blob/main/machine_learning.ipynb\" target=\"_parent\"><img src=\"https://colab.research.google.com/assets/colab-badge.svg\" alt=\"Open In Colab\"/></a>"
      ]
    },
    {
      "cell_type": "code",
      "execution_count": null,
      "metadata": {
        "id": "Q5_Y-fAYN4AC"
      },
      "outputs": [],
      "source": [
        "# importa i pacchetti di base\n",
        "import numpy as np # Algebra\n",
        "import matplotlib.pyplot as plt #grafici\n",
        "import pandas as pd # manipolazione dei dati\n",
        "# importa il dataset chiamato MNIST ceh contiene 70.000 immagini di numeri scritti a mano\n",
        "from keras.datasets import mnist"
      ]
    },
    {
      "cell_type": "markdown",
      "source": [
        "**Data Processing**"
      ],
      "metadata": {
        "id": "AJnQT5QEmpnp"
      }
    },
    {
      "cell_type": "code",
      "source": [
        "#carica i dati del dataset mninst nelle variabili X_train, y_train e X_test,y_test\n",
        "(X_train,y_train),(X_test,y_test) = mnist.load_data()"
      ],
      "metadata": {
        "id": "YNeGqGW1On5t"
      },
      "execution_count": null,
      "outputs": []
    },
    {
      "cell_type": "code",
      "source": [
        "X_train.shape\n"
      ],
      "metadata": {
        "colab": {
          "base_uri": "https://localhost:8080/"
        },
        "id": "ENnrzDVJPEjb",
        "outputId": "1a652cdc-f089-41f4-c4b9-1831c6adabed"
      },
      "execution_count": null,
      "outputs": [
        {
          "output_type": "execute_result",
          "data": {
            "text/plain": [
              "(60000, 28, 28)"
            ]
          },
          "metadata": {},
          "execution_count": 75
        }
      ]
    },
    {
      "cell_type": "code",
      "source": [
        "# rappresentazione del primo numero del dataset\n",
        "plt.imshow(X_train[0,:])\n",
        "plt.show()\n"
      ],
      "metadata": {
        "colab": {
          "base_uri": "https://localhost:8080/",
          "height": 265
        },
        "id": "HFBl3RRhQDKs",
        "outputId": "cc866202-3659-48b1-d96a-dff942bc2d56"
      },
      "execution_count": null,
      "outputs": [
        {
          "output_type": "display_data",
          "data": {
            "text/plain": [
              "<Figure size 432x288 with 1 Axes>"
            ],
            "image/png": "[encoded data removed]"
          },
          "metadata": {
            "needs_background": "light"
          }
        }
      ]
    },
    {
      "cell_type": "code",
      "source": [
        "# rappresentazione dei primi 12 numeri scritti a mano presenti nel dataset MNIST\n",
        "for i in range(12):\n",
        "    plt.subplot(4,4,i+1)\n",
        "    plt.imshow(X_train[i,:])\n",
        "\n",
        "plt.show()"
      ],
      "metadata": {
        "colab": {
          "base_uri": "https://localhost:8080/",
          "height": 212
        },
        "id": "Jey-QjelPJtU",
        "outputId": "f26d0d79-35a5-4eaf-ee69-78af7d44c62e"
      },
      "execution_count": null,
      "outputs": [
        {
          "output_type": "display_data",
          "data": {
            "text/plain": [
              "<Figure size 432x288 with 12 Axes>"
            ],
            "image/png": "[encoded data removed]"
          },
          "metadata": {
            "needs_background": "light"
          }
        }
      ]
    },
    {
      "cell_type": "code",
      "source": [
        "# cambia la rappresentazione dell'immagine da matrice 28*28 a vettore di 784\n",
        "X_train_reshaped = X_train.reshape(60000,28*28)\n",
        "X_test_reshaped = X_test.reshape(10000,28*28)\n",
        "# np.unique(X_train)\n",
        "X_train.shape"
      ],
      "metadata": {
        "colab": {
          "base_uri": "https://localhost:8080/"
        },
        "id": "JdfcSFTnQW7L",
        "outputId": "291fe363-c6ed-4bf9-9639-355bafe4e6c6"
      },
      "execution_count": null,
      "outputs": [
        {
          "output_type": "execute_result",
          "data": {
            "text/plain": [
              "(60000, 28, 28)"
            ]
          },
          "metadata": {},
          "execution_count": 78
        }
      ]
    },
    {
      "cell_type": "code",
      "source": [
        "# visualizzo la truttura del vettore di train\n",
        "# X_train_reshaped.shape"
      ],
      "metadata": {
        "id": "hNJMMdsaoZNY"
      },
      "execution_count": null,
      "outputs": []
    },
    {
      "cell_type": "code",
      "source": [
        "np.max(X_train_reshaped)"
      ],
      "metadata": {
        "colab": {
          "base_uri": "https://localhost:8080/"
        },
        "id": "1F118639osva",
        "outputId": "70c4b7cb-a7d0-4c55-a859-eca9dc831b92"
      },
      "execution_count": null,
      "outputs": [
        {
          "output_type": "execute_result",
          "data": {
            "text/plain": [
              "255"
            ]
          },
          "metadata": {},
          "execution_count": 79
        }
      ]
    },
    {
      "cell_type": "code",
      "source": [
        "np.min(X_train_reshaped)"
      ],
      "metadata": {
        "colab": {
          "base_uri": "https://localhost:8080/"
        },
        "id": "Q3BW0QBdo0Er",
        "outputId": "71ed2980-a11f-4531-cacd-00f3721b1120"
      },
      "execution_count": null,
      "outputs": [
        {
          "output_type": "execute_result",
          "data": {
            "text/plain": [
              "0"
            ]
          },
          "metadata": {},
          "execution_count": 80
        }
      ]
    },
    {
      "cell_type": "code",
      "source": [
        "X_train[0,:]"
      ],
      "metadata": {
        "colab": {
          "base_uri": "https://localhost:8080/"
        },
        "id": "1Gm_lSjXQiLz",
        "outputId": "39de61dc-52e0-43f3-a49b-7a9a72bd7a9e"
      },
      "execution_count": null,
      "outputs": [
        {
          "output_type": "execute_result",
          "data": {
            "text/plain": [
              "array([[  0,   0,   0,   0,   0,   0,   0,   0,   0,   0,   0,   0,   0,\n",
              "          0,   0,   0,   0,   0,   0,   0,   0,   0,   0,   0,   0,   0,\n",
              "          0,   0],\n",
              "       [  0,   0,   0,   0,   0,   0,   0,   0,   0,   0,   0,   0,   0,\n",
              "          0,   0,   0,   0,   0,   0,   0,   0,   0,   0,   0,   0,   0,\n",
              "          0,   0],\n",
              "       [  0,   0,   0,   0,   0,   0,   0,   0,   0,   0,   0,   0,   0,\n",
              "          0,   0,   0,   0,   0,   0,   0,   0,   0,   0,   0,   0,   0,\n",
              "          0,   0],\n",
              "       [  0,   0,   0,   0,   0,   0,   0,   0,   0,   0,   0,   0,   0,\n",
              "          0,   0,   0,   0,   0,   0,   0,   0,   0,   0,   0,   0,   0,\n",
              "          0,   0],\n",
              "       [  0,   0,   0,   0,   0,   0,   0,   0,   0,   0,   0,   0,   0,\n",
              "          0,   0,   0,   0,   0,   0,   0,   0,   0,   0,   0,   0,   0,\n",
              "          0,   0],\n",
              "       [  0,   0,   0,   0,   0,   0,   0,   0,   0,   0,   0,   0,   3,\n",
              "         18,  18,  18, 126, 136, 175,  26, 166, 255, 247, 127,   0,   0,\n",
              "          0,   0],\n",
              "       [  0,   0,   0,   0,   0,   0,   0,   0,  30,  36,  94, 154, 170,\n",
              "        253, 253, 253, 253, 253, 225, 172, 253, 242, 195,  64,   0,   0,\n",
              "          0,   0],\n",
              "       [  0,   0,   0,   0,   0,   0,   0,  49, 238, 253, 253, 253, 253,\n",
              "        253, 253, 253, 253, 251,  93,  82,  82,  56,  39,   0,   0,   0,\n",
              "          0,   0],\n",
              "       [  0,   0,   0,   0,   0,   0,   0,  18, 219, 253, 253, 253, 253,\n",
              "        253, 198, 182, 247, 241,   0,   0,   0,   0,   0,   0,   0,   0,\n",
              "          0,   0],\n",
              "       [  0,   0,   0,   0,   0,   0,   0,   0,  80, 156, 107, 253, 253,\n",
              "        205,  11,   0,  43, 154,   0,   0,   0,   0,   0,   0,   0,   0,\n",
              "          0,   0],\n",
              "       [  0,   0,   0,   0,   0,   0,   0,   0,   0,  14,   1, 154, 253,\n",
              "         90,   0,   0,   0,   0,   0,   0,   0,   0,   0,   0,   0,   0,\n",
              "          0,   0],\n",
              "       [  0,   0,   0,   0,   0,   0,   0,   0,   0,   0,   0, 139, 253,\n",
              "        190,   2,   0,   0,   0,   0,   0,   0,   0,   0,   0,   0,   0,\n",
              "          0,   0],\n",
              "       [  0,   0,   0,   0,   0,   0,   0,   0,   0,   0,   0,  11, 190,\n",
              "        253,  70,   0,   0,   0,   0,   0,   0,   0,   0,   0,   0,   0,\n",
              "          0,   0],\n",
              "       [  0,   0,   0,   0,   0,   0,   0,   0,   0,   0,   0,   0,  35,\n",
              "        241, 225, 160, 108,   1,   0,   0,   0,   0,   0,   0,   0,   0,\n",
              "          0,   0],\n",
              "       [  0,   0,   0,   0,   0,   0,   0,   0,   0,   0,   0,   0,   0,\n",
              "         81, 240, 253, 253, 119,  25,   0,   0,   0,   0,   0,   0,   0,\n",
              "          0,   0],\n",
              "       [  0,   0,   0,   0,   0,   0,   0,   0,   0,   0,   0,   0,   0,\n",
              "          0,  45, 186, 253, 253, 150,  27,   0,   0,   0,   0,   0,   0,\n",
              "          0,   0],\n",
              "       [  0,   0,   0,   0,   0,   0,   0,   0,   0,   0,   0,   0,   0,\n",
              "          0,   0,  16,  93, 252, 253, 187,   0,   0,   0,   0,   0,   0,\n",
              "          0,   0],\n",
              "       [  0,   0,   0,   0,   0,   0,   0,   0,   0,   0,   0,   0,   0,\n",
              "          0,   0,   0,   0, 249, 253, 249,  64,   0,   0,   0,   0,   0,\n",
              "          0,   0],\n",
              "       [  0,   0,   0,   0,   0,   0,   0,   0,   0,   0,   0,   0,   0,\n",
              "          0,  46, 130, 183, 253, 253, 207,   2,   0,   0,   0,   0,   0,\n",
              "          0,   0],\n",
              "       [  0,   0,   0,   0,   0,   0,   0,   0,   0,   0,   0,   0,  39,\n",
              "        148, 229, 253, 253, 253, 250, 182,   0,   0,   0,   0,   0,   0,\n",
              "          0,   0],\n",
              "       [  0,   0,   0,   0,   0,   0,   0,   0,   0,   0,  24, 114, 221,\n",
              "        253, 253, 253, 253, 201,  78,   0,   0,   0,   0,   0,   0,   0,\n",
              "          0,   0],\n",
              "       [  0,   0,   0,   0,   0,   0,   0,   0,  23,  66, 213, 253, 253,\n",
              "        253, 253, 198,  81,   2,   0,   0,   0,   0,   0,   0,   0,   0,\n",
              "          0,   0],\n",
              "       [  0,   0,   0,   0,   0,   0,  18, 171, 219, 253, 253, 253, 253,\n",
              "        195,  80,   9,   0,   0,   0,   0,   0,   0,   0,   0,   0,   0,\n",
              "          0,   0],\n",
              "       [  0,   0,   0,   0,  55, 172, 226, 253, 253, 253, 253, 244, 133,\n",
              "         11,   0,   0,   0,   0,   0,   0,   0,   0,   0,   0,   0,   0,\n",
              "          0,   0],\n",
              "       [  0,   0,   0,   0, 136, 253, 253, 253, 212, 135, 132,  16,   0,\n",
              "          0,   0,   0,   0,   0,   0,   0,   0,   0,   0,   0,   0,   0,\n",
              "          0,   0],\n",
              "       [  0,   0,   0,   0,   0,   0,   0,   0,   0,   0,   0,   0,   0,\n",
              "          0,   0,   0,   0,   0,   0,   0,   0,   0,   0,   0,   0,   0,\n",
              "          0,   0],\n",
              "       [  0,   0,   0,   0,   0,   0,   0,   0,   0,   0,   0,   0,   0,\n",
              "          0,   0,   0,   0,   0,   0,   0,   0,   0,   0,   0,   0,   0,\n",
              "          0,   0],\n",
              "       [  0,   0,   0,   0,   0,   0,   0,   0,   0,   0,   0,   0,   0,\n",
              "          0,   0,   0,   0,   0,   0,   0,   0,   0,   0,   0,   0,   0,\n",
              "          0,   0]], dtype=uint8)"
            ]
          },
          "metadata": {},
          "execution_count": 81
        }
      ]
    },
    {
      "cell_type": "code",
      "source": [
        "# scalo i dati, dividento per il massimo per aumentare la velocità di convergenza\n",
        "X_train_scaled = X_train_reshaped/255\n",
        "X_test_scaled = X_test_reshaped/255\n",
        "np.max(X_train_scaled)"
      ],
      "metadata": {
        "colab": {
          "base_uri": "https://localhost:8080/"
        },
        "id": "ZsTETLNgqWFW",
        "outputId": "413d28e0-fa9e-4325-ae82-0cca7d6b6880"
      },
      "execution_count": null,
      "outputs": [
        {
          "output_type": "execute_result",
          "data": {
            "text/plain": [
              "1.0"
            ]
          },
          "metadata": {},
          "execution_count": 82
        }
      ]
    },
    {
      "cell_type": "code",
      "source": [
        "np.unique(y_train)"
      ],
      "metadata": {
        "colab": {
          "base_uri": "https://localhost:8080/"
        },
        "id": "oUrM_OLWqHwm",
        "outputId": "1a278058-480c-434f-f62f-69c559032529"
      },
      "execution_count": null,
      "outputs": [
        {
          "output_type": "execute_result",
          "data": {
            "text/plain": [
              "array([0, 1, 2, 3, 4, 5, 6, 7, 8, 9], dtype=uint8)"
            ]
          },
          "metadata": {},
          "execution_count": 83
        }
      ]
    },
    {
      "cell_type": "code",
      "source": [
        "len(np.unique(y_train))"
      ],
      "metadata": {
        "colab": {
          "base_uri": "https://localhost:8080/"
        },
        "id": "YDGa993jqaRF",
        "outputId": "cb53ee37-bd6b-45ca-a307-285af9c27092"
      },
      "execution_count": null,
      "outputs": [
        {
          "output_type": "execute_result",
          "data": {
            "text/plain": [
              "10"
            ]
          },
          "metadata": {},
          "execution_count": 84
        }
      ]
    },
    {
      "cell_type": "code",
      "source": [
        "# prendo le prime 5 immagini della matrice di immagini\n",
        "y_train[0:5]"
      ],
      "metadata": {
        "colab": {
          "base_uri": "https://localhost:8080/"
        },
        "id": "MK6e_4v0rZo3",
        "outputId": "79ad6fc9-5ba7-4a86-e7cb-59718a27243e"
      },
      "execution_count": null,
      "outputs": [
        {
          "output_type": "execute_result",
          "data": {
            "text/plain": [
              "array([5, 0, 4, 1, 9], dtype=uint8)"
            ]
          },
          "metadata": {},
          "execution_count": 85
        }
      ]
    },
    {
      "cell_type": "code",
      "source": [
        "# trasformiamo i dati presenti in y_train in una matrice\n",
        "# questo è il modo corretto per trattare un problema di classificazione\n",
        "# la prima modifica per migliorare il modello è convertire i dati in dammy variables\n",
        "y_train_dummies = pd.get_dummies(y_train)\n",
        "y_test_dummies = pd.get_dummies(y_test)\n",
        "y_train_dummies.shape"
      ],
      "metadata": {
        "colab": {
          "base_uri": "https://localhost:8080/"
        },
        "id": "pvu5fyUXqwJZ",
        "outputId": "358cc46b-ed71-48f8-e256-efbbab3b2c08"
      },
      "execution_count": null,
      "outputs": [
        {
          "output_type": "execute_result",
          "data": {
            "text/plain": [
              "(60000, 10)"
            ]
          },
          "metadata": {},
          "execution_count": 86
        }
      ]
    },
    {
      "cell_type": "code",
      "source": [
        "# calcolo delle probabilità, questo fa la softmax sotto inserita\n",
        "# la funzione softmax da in uscita un solo valore come massima probabilità\n",
        "# se vogliamo costruire un modello che prevede le previsioni del tempo, dove ci possono essere in uscita più di un risultato\n",
        "# infatti in una giornata potrebbe essere parzialmente nuvoloso, quindi in uscita potremmo avere due probabilità\n",
        "# nuvoloso e soleggiato, in quel caso dovremmo utilizzare la funzione 'sigmoid' che prevede in uscita non una sola probabilità ma più di una\n",
        "vettore = [3,4,2]\n",
        "np.exp(2)/(np.exp(3)+np.exp(4)+np.exp(2))"
      ],
      "metadata": {
        "colab": {
          "base_uri": "https://localhost:8080/"
        },
        "id": "QvwD3N3BuvWs",
        "outputId": "a65ca8a8-5939-4177-8a8e-32ca8b557377"
      },
      "execution_count": null,
      "outputs": [
        {
          "output_type": "execute_result",
          "data": {
            "text/plain": [
              "0.09003057317038045"
            ]
          },
          "metadata": {},
          "execution_count": 87
        }
      ]
    },
    {
      "cell_type": "code",
      "source": [
        "# \n",
        "y_train_dummies"
      ],
      "metadata": {
        "colab": {
          "base_uri": "https://localhost:8080/",
          "height": 424
        },
        "id": "DM7S1aAzt5C7",
        "outputId": "f4b9af2f-fafc-4fc4-9349-9f5aca071687"
      },
      "execution_count": null,
      "outputs": [
        {
          "output_type": "execute_result",
          "data": {
            "text/plain": [
              "       0  1  2  3  4  5  6  7  8  9\n",
              "0      0  0  0  0  0  1  0  0  0  0\n",
              "1      1  0  0  0  0  0  0  0  0  0\n",
              "2      0  0  0  0  1  0  0  0  0  0\n",
              "3      0  1  0  0  0  0  0  0  0  0\n",
              "4      0  0  0  0  0  0  0  0  0  1\n",
              "...   .. .. .. .. .. .. .. .. .. ..\n",
              "59995  0  0  0  0  0  0  0  0  1  0\n",
              "59996  0  0  0  1  0  0  0  0  0  0\n",
              "59997  0  0  0  0  0  1  0  0  0  0\n",
              "59998  0  0  0  0  0  0  1  0  0  0\n",
              "59999  0  0  0  0  0  0  0  0  1  0\n",
              "\n",
              "[60000 rows x 10 columns]"
            ],
            "text/html": [
              "\n",
              "  <div id=\"df-7bcb37fa-3b5a-4f72-a44c-1a9ca8c3bc71\">\n",
              "    <div class=\"colab-df-container\">\n",
              "      <div>\n",
              "<style scoped>\n",
              "    .dataframe tbody tr th:only-of-type {\n",
              "        vertical-align: middle;\n",
              "    }\n",
              "\n",
              "    .dataframe tbody tr th {\n",
              "        vertical-align: top;\n",
              "    }\n",
              "\n",
              "    .dataframe thead th {\n",
              "        text-align: right;\n",
              "    }\n",
              "</style>\n",
              "<table border=\"1\" class=\"dataframe\">\n",
              "  <thead>\n",
              "    <tr style=\"text-align: right;\">\n",
              "      <th></th>\n",
              "      <th>0</th>\n",
              "      <th>1</th>\n",
              "      <th>2</th>\n",
              "      <th>3</th>\n",
              "      <th>4</th>\n",
              "      <th>5</th>\n",
              "      <th>6</th>\n",
              "      <th>7</th>\n",
              "      <th>8</th>\n",
              "      <th>9</th>\n",
              "    </tr>\n",
              "  </thead>\n",
              "  <tbody>\n",
              "    <tr>\n",
              "      <th>0</th>\n",
              "      <td>0</td>\n",
              "      <td>0</td>\n",
              "      <td>0</td>\n",
              "      <td>0</td>\n",
              "      <td>0</td>\n",
              "      <td>1</td>\n",
              "      <td>0</td>\n",
              "      <td>0</td>\n",
              "      <td>0</td>\n",
              "      <td>0</td>\n",
              "    </tr>\n",
              "    <tr>\n",
              "      <th>1</th>\n",
              "      <td>1</td>\n",
              "      <td>0</td>\n",
              "      <td>0</td>\n",
              "      <td>0</td>\n",
              "      <td>0</td>\n",
              "      <td>0</td>\n",
              "      <td>0</td>\n",
              "      <td>0</td>\n",
              "      <td>0</td>\n",
              "      <td>0</td>\n",
              "    </tr>\n",
              "    <tr>\n",
              "      <th>2</th>\n",
              "      <td>0</td>\n",
              "      <td>0</td>\n",
              "      <td>0</td>\n",
              "      <td>0</td>\n",
              "      <td>1</td>\n",
              "      <td>0</td>\n",
              "      <td>0</td>\n",
              "      <td>0</td>\n",
              "      <td>0</td>\n",
              "      <td>0</td>\n",
              "    </tr>\n",
              "    <tr>\n",
              "      <th>3</th>\n",
              "      <td>0</td>\n",
              "      <td>1</td>\n",
              "      <td>0</td>\n",
              "      <td>0</td>\n",
              "      <td>0</td>\n",
              "      <td>0</td>\n",
              "      <td>0</td>\n",
              "      <td>0</td>\n",
              "      <td>0</td>\n",
              "      <td>0</td>\n",
              "    </tr>\n",
              "    <tr>\n",
              "      <th>4</th>\n",
              "      <td>0</td>\n",
              "      <td>0</td>\n",
              "      <td>0</td>\n",
              "      <td>0</td>\n",
              "      <td>0</td>\n",
              "      <td>0</td>\n",
              "      <td>0</td>\n",
              "      <td>0</td>\n",
              "      <td>0</td>\n",
              "      <td>1</td>\n",
              "    </tr>\n",
              "    <tr>\n",
              "      <th>...</th>\n",
              "      <td>...</td>\n",
              "      <td>...</td>\n",
              "      <td>...</td>\n",
              "      <td>...</td>\n",
              "      <td>...</td>\n",
              "      <td>...</td>\n",
              "      <td>...</td>\n",
              "      <td>...</td>\n",
              "      <td>...</td>\n",
              "      <td>...</td>\n",
              "    </tr>\n",
              "    <tr>\n",
              "      <th>59995</th>\n",
              "      <td>0</td>\n",
              "      <td>0</td>\n",
              "      <td>0</td>\n",
              "      <td>0</td>\n",
              "      <td>0</td>\n",
              "      <td>0</td>\n",
              "      <td>0</td>\n",
              "      <td>0</td>\n",
              "      <td>1</td>\n",
              "      <td>0</td>\n",
              "    </tr>\n",
              "    <tr>\n",
              "      <th>59996</th>\n",
              "      <td>0</td>\n",
              "      <td>0</td>\n",
              "      <td>0</td>\n",
              "      <td>1</td>\n",
              "      <td>0</td>\n",
              "      <td>0</td>\n",
              "      <td>0</td>\n",
              "      <td>0</td>\n",
              "      <td>0</td>\n",
              "      <td>0</td>\n",
              "    </tr>\n",
              "    <tr>\n",
              "      <th>59997</th>\n",
              "      <td>0</td>\n",
              "      <td>0</td>\n",
              "      <td>0</td>\n",
              "      <td>0</td>\n",
              "      <td>0</td>\n",
              "      <td>1</td>\n",
              "      <td>0</td>\n",
              "      <td>0</td>\n",
              "      <td>0</td>\n",
              "      <td>0</td>\n",
              "    </tr>\n",
              "    <tr>\n",
              "      <th>59998</th>\n",
              "      <td>0</td>\n",
              "      <td>0</td>\n",
              "      <td>0</td>\n",
              "      <td>0</td>\n",
              "      <td>0</td>\n",
              "      <td>0</td>\n",
              "      <td>1</td>\n",
              "      <td>0</td>\n",
              "      <td>0</td>\n",
              "      <td>0</td>\n",
              "    </tr>\n",
              "    <tr>\n",
              "      <th>59999</th>\n",
              "      <td>0</td>\n",
              "      <td>0</td>\n",
              "      <td>0</td>\n",
              "      <td>0</td>\n",
              "      <td>0</td>\n",
              "      <td>0</td>\n",
              "      <td>0</td>\n",
              "      <td>0</td>\n",
              "      <td>1</td>\n",
              "      <td>0</td>\n",
              "    </tr>\n",
              "  </tbody>\n",
              "</table>\n",
              "<p>60000 rows × 10 columns</p>\n",
              "</div>\n",
              "      <button class=\"colab-df-convert\" onclick=\"convertToInteractive('df-7bcb37fa-3b5a-4f72-a44c-1a9ca8c3bc71')\"\n",
              "              title=\"Convert this dataframe to an interactive table.\"\n",
              "              style=\"display:none;\">\n",
              "        \n",
              "  <svg xmlns=\"http://www.w3.org/2000/svg\" height=\"24px\"viewBox=\"0 0 24 24\"\n",
              "       width=\"24px\">\n",
              "    <path d=\"M0 0h24v24H0V0z\" fill=\"none\"/>\n",
              "    <path d=\"M18.56 5.44l.94 2.06.94-2.06 2.06-.94-2.06-.94-.94-2.06-.94 2.06-2.06.94zm-11 1L8.5 8.5l.94-2.06 2.06-.94-2.06-.94L8.5 2.5l-.94 2.06-2.06.94zm10 10l.94 2.06.94-2.06 2.06-.94-2.06-.94-.94-2.06-.94 2.06-2.06.94z\"/><path d=\"M17.41 7.96l-1.37-1.37c-.4-.4-.92-.59-1.43-.59-.52 0-1.04.2-1.43.59L10.3 9.45l-7.72 7.72c-.78.78-.78 2.05 0 2.83L4 21.41c.39.39.9.59 1.41.59.51 0 1.02-.2 1.41-.59l7.78-7.78 2.81-2.81c.8-.78.8-2.07 0-2.86zM5.41 20L4 18.59l7.72-7.72 1.47 1.35L5.41 20z\"/>\n",
              "  </svg>\n",
              "      </button>\n",
              "      \n",
              "  <style>\n",
              "    .colab-df-container {\n",
              "      display:flex;\n",
              "      flex-wrap:wrap;\n",
              "      gap: 12px;\n",
              "    }\n",
              "\n",
              "    .colab-df-convert {\n",
              "      background-color: #E8F0FE;\n",
              "      border: none;\n",
              "      border-radius: 50%;\n",
              "      cursor: pointer;\n",
              "      display: none;\n",
              "      fill: #1967D2;\n",
              "      height: 32px;\n",
              "      padding: 0 0 0 0;\n",
              "      width: 32px;\n",
              "    }\n",
              "\n",
              "    .colab-df-convert:hover {\n",
              "      background-color: #E2EBFA;\n",
              "      box-shadow: 0px 1px 2px rgba(60, 64, 67, 0.3), 0px 1px 3px 1px rgba(60, 64, 67, 0.15);\n",
              "      fill: #174EA6;\n",
              "    }\n",
              "\n",
              "    [theme=dark] .colab-df-convert {\n",
              "      background-color: #3B4455;\n",
              "      fill: #D2E3FC;\n",
              "    }\n",
              "\n",
              "    [theme=dark] .colab-df-convert:hover {\n",
              "      background-color: #434B5C;\n",
              "      box-shadow: 0px 1px 3px 1px rgba(0, 0, 0, 0.15);\n",
              "      filter: drop-shadow(0px 1px 2px rgba(0, 0, 0, 0.3));\n",
              "      fill: #FFFFFF;\n",
              "    }\n",
              "  </style>\n",
              "\n",
              "      <script>\n",
              "        const buttonEl =\n",
              "          document.querySelector('#df-7bcb37fa-3b5a-4f72-a44c-1a9ca8c3bc71 button.colab-df-convert');\n",
              "        buttonEl.style.display =\n",
              "          google.colab.kernel.accessAllowed ? 'block' : 'none';\n",
              "\n",
              "        async function convertToInteractive(key) {\n",
              "          const element = document.querySelector('#df-7bcb37fa-3b5a-4f72-a44c-1a9ca8c3bc71');\n",
              "          const dataTable =\n",
              "            await google.colab.kernel.invokeFunction('convertToInteractive',\n",
              "                                                     [key], {});\n",
              "          if (!dataTable) return;\n",
              "\n",
              "          const docLinkHtml = 'Like what you see? Visit the ' +\n",
              "            '<a target=\"_blank\" href=https://colab.research.google.com/notebooks/data_table.ipynb>data table notebook</a>'\n",
              "            + ' to learn more about interactive tables.';\n",
              "          element.innerHTML = '';\n",
              "          dataTable['output_type'] = 'display_data';\n",
              "          await google.colab.output.renderOutput(dataTable, element);\n",
              "          const docLink = document.createElement('div');\n",
              "          docLink.innerHTML = docLinkHtml;\n",
              "          element.appendChild(docLink);\n",
              "        }\n",
              "      </script>\n",
              "    </div>\n",
              "  </div>\n",
              "  "
            ]
          },
          "metadata": {},
          "execution_count": 88
        }
      ]
    },
    {
      "cell_type": "code",
      "source": [
        "y_train_dummies"
      ],
      "metadata": {
        "colab": {
          "base_uri": "https://localhost:8080/",
          "height": 424
        },
        "id": "ETsSjzylwH2P",
        "outputId": "11d6ae8d-41e0-460f-b673-9f35bd28a852"
      },
      "execution_count": null,
      "outputs": [
        {
          "output_type": "execute_result",
          "data": {
            "text/plain": [
              "       0  1  2  3  4  5  6  7  8  9\n",
              "0      0  0  0  0  0  1  0  0  0  0\n",
              "1      1  0  0  0  0  0  0  0  0  0\n",
              "2      0  0  0  0  1  0  0  0  0  0\n",
              "3      0  1  0  0  0  0  0  0  0  0\n",
              "4      0  0  0  0  0  0  0  0  0  1\n",
              "...   .. .. .. .. .. .. .. .. .. ..\n",
              "59995  0  0  0  0  0  0  0  0  1  0\n",
              "59996  0  0  0  1  0  0  0  0  0  0\n",
              "59997  0  0  0  0  0  1  0  0  0  0\n",
              "59998  0  0  0  0  0  0  1  0  0  0\n",
              "59999  0  0  0  0  0  0  0  0  1  0\n",
              "\n",
              "[60000 rows x 10 columns]"
            ],
            "text/html": [
              "\n",
              "  <div id=\"df-58b3d661-83f3-4702-b19b-245cf752fe8e\">\n",
              "    <div class=\"colab-df-container\">\n",
              "      <div>\n",
              "<style scoped>\n",
              "    .dataframe tbody tr th:only-of-type {\n",
              "        vertical-align: middle;\n",
              "    }\n",
              "\n",
              "    .dataframe tbody tr th {\n",
              "        vertical-align: top;\n",
              "    }\n",
              "\n",
              "    .dataframe thead th {\n",
              "        text-align: right;\n",
              "    }\n",
              "</style>\n",
              "<table border=\"1\" class=\"dataframe\">\n",
              "  <thead>\n",
              "    <tr style=\"text-align: right;\">\n",
              "      <th></th>\n",
              "      <th>0</th>\n",
              "      <th>1</th>\n",
              "      <th>2</th>\n",
              "      <th>3</th>\n",
              "      <th>4</th>\n",
              "      <th>5</th>\n",
              "      <th>6</th>\n",
              "      <th>7</th>\n",
              "      <th>8</th>\n",
              "      <th>9</th>\n",
              "    </tr>\n",
              "  </thead>\n",
              "  <tbody>\n",
              "    <tr>\n",
              "      <th>0</th>\n",
              "      <td>0</td>\n",
              "      <td>0</td>\n",
              "      <td>0</td>\n",
              "      <td>0</td>\n",
              "      <td>0</td>\n",
              "      <td>1</td>\n",
              "      <td>0</td>\n",
              "      <td>0</td>\n",
              "      <td>0</td>\n",
              "      <td>0</td>\n",
              "    </tr>\n",
              "    <tr>\n",
              "      <th>1</th>\n",
              "      <td>1</td>\n",
              "      <td>0</td>\n",
              "      <td>0</td>\n",
              "      <td>0</td>\n",
              "      <td>0</td>\n",
              "      <td>0</td>\n",
              "      <td>0</td>\n",
              "      <td>0</td>\n",
              "      <td>0</td>\n",
              "      <td>0</td>\n",
              "    </tr>\n",
              "    <tr>\n",
              "      <th>2</th>\n",
              "      <td>0</td>\n",
              "      <td>0</td>\n",
              "      <td>0</td>\n",
              "      <td>0</td>\n",
              "      <td>1</td>\n",
              "      <td>0</td>\n",
              "      <td>0</td>\n",
              "      <td>0</td>\n",
              "      <td>0</td>\n",
              "      <td>0</td>\n",
              "    </tr>\n",
              "    <tr>\n",
              "      <th>3</th>\n",
              "      <td>0</td>\n",
              "      <td>1</td>\n",
              "      <td>0</td>\n",
              "      <td>0</td>\n",
              "      <td>0</td>\n",
              "      <td>0</td>\n",
              "      <td>0</td>\n",
              "      <td>0</td>\n",
              "      <td>0</td>\n",
              "      <td>0</td>\n",
              "    </tr>\n",
              "    <tr>\n",
              "      <th>4</th>\n",
              "      <td>0</td>\n",
              "      <td>0</td>\n",
              "      <td>0</td>\n",
              "      <td>0</td>\n",
              "      <td>0</td>\n",
              "      <td>0</td>\n",
              "      <td>0</td>\n",
              "      <td>0</td>\n",
              "      <td>0</td>\n",
              "      <td>1</td>\n",
              "    </tr>\n",
              "    <tr>\n",
              "      <th>...</th>\n",
              "      <td>...</td>\n",
              "      <td>...</td>\n",
              "      <td>...</td>\n",
              "      <td>...</td>\n",
              "      <td>...</td>\n",
              "      <td>...</td>\n",
              "      <td>...</td>\n",
              "      <td>...</td>\n",
              "      <td>...</td>\n",
              "      <td>...</td>\n",
              "    </tr>\n",
              "    <tr>\n",
              "      <th>59995</th>\n",
              "      <td>0</td>\n",
              "      <td>0</td>\n",
              "      <td>0</td>\n",
              "      <td>0</td>\n",
              "      <td>0</td>\n",
              "      <td>0</td>\n",
              "      <td>0</td>\n",
              "      <td>0</td>\n",
              "      <td>1</td>\n",
              "      <td>0</td>\n",
              "    </tr>\n",
              "    <tr>\n",
              "      <th>59996</th>\n",
              "      <td>0</td>\n",
              "      <td>0</td>\n",
              "      <td>0</td>\n",
              "      <td>1</td>\n",
              "      <td>0</td>\n",
              "      <td>0</td>\n",
              "      <td>0</td>\n",
              "      <td>0</td>\n",
              "      <td>0</td>\n",
              "      <td>0</td>\n",
              "    </tr>\n",
              "    <tr>\n",
              "      <th>59997</th>\n",
              "      <td>0</td>\n",
              "      <td>0</td>\n",
              "      <td>0</td>\n",
              "      <td>0</td>\n",
              "      <td>0</td>\n",
              "      <td>1</td>\n",
              "      <td>0</td>\n",
              "      <td>0</td>\n",
              "      <td>0</td>\n",
              "      <td>0</td>\n",
              "    </tr>\n",
              "    <tr>\n",
              "      <th>59998</th>\n",
              "      <td>0</td>\n",
              "      <td>0</td>\n",
              "      <td>0</td>\n",
              "      <td>0</td>\n",
              "      <td>0</td>\n",
              "      <td>0</td>\n",
              "      <td>1</td>\n",
              "      <td>0</td>\n",
              "      <td>0</td>\n",
              "      <td>0</td>\n",
              "    </tr>\n",
              "    <tr>\n",
              "      <th>59999</th>\n",
              "      <td>0</td>\n",
              "      <td>0</td>\n",
              "      <td>0</td>\n",
              "      <td>0</td>\n",
              "      <td>0</td>\n",
              "      <td>0</td>\n",
              "      <td>0</td>\n",
              "      <td>0</td>\n",
              "      <td>1</td>\n",
              "      <td>0</td>\n",
              "    </tr>\n",
              "  </tbody>\n",
              "</table>\n",
              "<p>60000 rows × 10 columns</p>\n",
              "</div>\n",
              "      <button class=\"colab-df-convert\" onclick=\"convertToInteractive('df-58b3d661-83f3-4702-b19b-245cf752fe8e')\"\n",
              "              title=\"Convert this dataframe to an interactive table.\"\n",
              "              style=\"display:none;\">\n",
              "        \n",
              "  <svg xmlns=\"http://www.w3.org/2000/svg\" height=\"24px\"viewBox=\"0 0 24 24\"\n",
              "       width=\"24px\">\n",
              "    <path d=\"M0 0h24v24H0V0z\" fill=\"none\"/>\n",
              "    <path d=\"M18.56 5.44l.94 2.06.94-2.06 2.06-.94-2.06-.94-.94-2.06-.94 2.06-2.06.94zm-11 1L8.5 8.5l.94-2.06 2.06-.94-2.06-.94L8.5 2.5l-.94 2.06-2.06.94zm10 10l.94 2.06.94-2.06 2.06-.94-2.06-.94-.94-2.06-.94 2.06-2.06.94z\"/><path d=\"M17.41 7.96l-1.37-1.37c-.4-.4-.92-.59-1.43-.59-.52 0-1.04.2-1.43.59L10.3 9.45l-7.72 7.72c-.78.78-.78 2.05 0 2.83L4 21.41c.39.39.9.59 1.41.59.51 0 1.02-.2 1.41-.59l7.78-7.78 2.81-2.81c.8-.78.8-2.07 0-2.86zM5.41 20L4 18.59l7.72-7.72 1.47 1.35L5.41 20z\"/>\n",
              "  </svg>\n",
              "      </button>\n",
              "      \n",
              "  <style>\n",
              "    .colab-df-container {\n",
              "      display:flex;\n",
              "      flex-wrap:wrap;\n",
              "      gap: 12px;\n",
              "    }\n",
              "\n",
              "    .colab-df-convert {\n",
              "      background-color: #E8F0FE;\n",
              "      border: none;\n",
              "      border-radius: 50%;\n",
              "      cursor: pointer;\n",
              "      display: none;\n",
              "      fill: #1967D2;\n",
              "      height: 32px;\n",
              "      padding: 0 0 0 0;\n",
              "      width: 32px;\n",
              "    }\n",
              "\n",
              "    .colab-df-convert:hover {\n",
              "      background-color: #E2EBFA;\n",
              "      box-shadow: 0px 1px 2px rgba(60, 64, 67, 0.3), 0px 1px 3px 1px rgba(60, 64, 67, 0.15);\n",
              "      fill: #174EA6;\n",
              "    }\n",
              "\n",
              "    [theme=dark] .colab-df-convert {\n",
              "      background-color: #3B4455;\n",
              "      fill: #D2E3FC;\n",
              "    }\n",
              "\n",
              "    [theme=dark] .colab-df-convert:hover {\n",
              "      background-color: #434B5C;\n",
              "      box-shadow: 0px 1px 3px 1px rgba(0, 0, 0, 0.15);\n",
              "      filter: drop-shadow(0px 1px 2px rgba(0, 0, 0, 0.3));\n",
              "      fill: #FFFFFF;\n",
              "    }\n",
              "  </style>\n",
              "\n",
              "      <script>\n",
              "        const buttonEl =\n",
              "          document.querySelector('#df-58b3d661-83f3-4702-b19b-245cf752fe8e button.colab-df-convert');\n",
              "        buttonEl.style.display =\n",
              "          google.colab.kernel.accessAllowed ? 'block' : 'none';\n",
              "\n",
              "        async function convertToInteractive(key) {\n",
              "          const element = document.querySelector('#df-58b3d661-83f3-4702-b19b-245cf752fe8e');\n",
              "          const dataTable =\n",
              "            await google.colab.kernel.invokeFunction('convertToInteractive',\n",
              "                                                     [key], {});\n",
              "          if (!dataTable) return;\n",
              "\n",
              "          const docLinkHtml = 'Like what you see? Visit the ' +\n",
              "            '<a target=\"_blank\" href=https://colab.research.google.com/notebooks/data_table.ipynb>data table notebook</a>'\n",
              "            + ' to learn more about interactive tables.';\n",
              "          element.innerHTML = '';\n",
              "          dataTable['output_type'] = 'display_data';\n",
              "          await google.colab.output.renderOutput(dataTable, element);\n",
              "          const docLink = document.createElement('div');\n",
              "          docLink.innerHTML = docLinkHtml;\n",
              "          element.appendChild(docLink);\n",
              "        }\n",
              "      </script>\n",
              "    </div>\n",
              "  </div>\n",
              "  "
            ]
          },
          "metadata": {},
          "execution_count": 89
        }
      ]
    },
    {
      "cell_type": "markdown",
      "source": [
        "**Creazione della rete neurale**"
      ],
      "metadata": {
        "id": "5CisR7NNpg06"
      }
    },
    {
      "cell_type": "code",
      "source": [
        "# pacchetti essenziali per costruire la rete neurale\n",
        "from keras.models import Sequential, load_model\n",
        "from keras.layers import Dense, Conv2D, Flatten, AveragePooling2D, Activation, Dropout\n",
        "from keras.callbacks import EarlyStopping, ModelCheckpoint\n"
      ],
      "metadata": {
        "id": "cZvbYa8MRNOc"
      },
      "execution_count": null,
      "outputs": []
    },
    {
      "cell_type": "code",
      "source": [
        "X_train_tensor = X_train_scaled.reshape(60000,28,28,1)\n",
        "X_test_tensor = X_test_scaled.reshape(10000,28,28,1)"
      ],
      "metadata": {
        "id": "Pc6cmPsimHLg"
      },
      "execution_count": null,
      "outputs": []
    },
    {
      "cell_type": "code",
      "source": [
        "model = Sequential()\n",
        "\n",
        "# # 1° layer\n",
        "# model.add(Dense(1000, input_shape=(784,)))\n",
        "# model.add(Activation('relu'))\n",
        "# model.add(Dropout(0.4))\n",
        "\n",
        "# # 2° layer\n",
        "# model.add(Dense(1000))\n",
        "# model.add(Activation('relu'))\n",
        "# model.add(Dropout(0.4))\n",
        "\n",
        "# # 3° layer di uscita\n",
        "# # model.add(Dense(1))\n",
        "# model.add(Dense(10))\n",
        "# model.add(Activation('softmax'))\n",
        "\n",
        "# 1° strato\n",
        "model.add(Conv2D(filters=24, kernel_size=(5,5),padding='same', activation='relu', input_shape=(28,28,1)))\n",
        "model.add(AveragePooling2D()) # passiamo da un'immagine 28x28 a 14x14\n",
        "\n",
        "# 2° starto\n",
        "model.add(Conv2D(filters=64, kernel_size=(5,5),padding='valid', activation='relu')) # l'immagine viene ridotta da 14x14 a 10x10\n",
        "model.add(AveragePooling2D()) # passiamo da un'immagine 10x10 a 5x5\n",
        "\n",
        "\n",
        "model.add(Flatten()) # converte la rete neurale da 2D a 1D\n",
        "\n",
        "# 3° strato\n",
        "model.add(Dense(units=480,activation='relu'))\n",
        "model.add(Dropout(0.5))\n",
        "# 4° strato\n",
        "model.add(Dense(units=336,activation='relu'))\n",
        "model.add(Dropout(0.5))\n",
        "\n",
        "# 5° strato d'uscita\n",
        "model.add(Dense(units=10,activation='softmax'))\n",
        "\n",
        "\n",
        "# model.compile(optimizer='adam', loss='mae', metrics=['mae'])\n",
        "model.compile(optimizer='adam', loss='categorical_crossentropy', metrics=['accuracy'])\n",
        "early_stopping_monitor = EarlyStopping(patience=5, monitor='val_accuracy')\n",
        "model_checkpoint_callback = ModelCheckpoint(filepath='best_model.hdf5',\n",
        "                                            monitor='val_accuracy',\n",
        "                                            mode='auto',\n",
        "                                            save_best_only=True,\n",
        "                                            verbose=1)\n",
        "# model.fit(X_train_scaled, y_train,\n",
        "#           validation_data=(X_test_scaled,y_test),\n",
        "#           epochs=10)\n",
        "history = model.fit(X_train_tensor, y_train_dummies,\n",
        "          validation_data=(X_test_tensor,y_test_dummies),\n",
        "          epochs=30,\n",
        "          callbacks=[early_stopping_monitor,model_checkpoint_callback])"
      ],
      "metadata": {
        "id": "5csYWjXwilkx",
        "colab": {
          "base_uri": "https://localhost:8080/"
        },
        "outputId": "ca0a6030-03cc-486b-edf0-4d8c46dcae88"
      },
      "execution_count": null,
      "outputs": [
        {
          "output_type": "stream",
          "name": "stdout",
          "text": [
            "Epoch 1/30\n",
            "1872/1875 [============================>.] - ETA: 0s - loss: 0.1898 - accuracy: 0.9423\n",
            "Epoch 1: val_accuracy improved from -inf to 0.98650, saving model to best_model.hdf5\n",
            "1875/1875 [==============================] - 12s 5ms/step - loss: 0.1896 - accuracy: 0.9424 - val_loss: 0.0421 - val_accuracy: 0.9865\n",
            "Epoch 2/30\n",
            "1873/1875 [============================>.] - ETA: 0s - loss: 0.0659 - accuracy: 0.9810\n",
            "Epoch 2: val_accuracy improved from 0.98650 to 0.98830, saving model to best_model.hdf5\n",
            "1875/1875 [==============================] - 12s 7ms/step - loss: 0.0659 - accuracy: 0.9810 - val_loss: 0.0359 - val_accuracy: 0.9883\n",
            "Epoch 3/30\n",
            "1865/1875 [============================>.] - ETA: 0s - loss: 0.0477 - accuracy: 0.9863\n",
            "Epoch 3: val_accuracy improved from 0.98830 to 0.99010, saving model to best_model.hdf5\n",
            "1875/1875 [==============================] - 9s 5ms/step - loss: 0.0478 - accuracy: 0.9863 - val_loss: 0.0306 - val_accuracy: 0.9901\n",
            "Epoch 4/30\n",
            "1866/1875 [============================>.] - ETA: 0s - loss: 0.0382 - accuracy: 0.9890\n",
            "Epoch 4: val_accuracy improved from 0.99010 to 0.99290, saving model to best_model.hdf5\n",
            "1875/1875 [==============================] - 10s 5ms/step - loss: 0.0382 - accuracy: 0.9890 - val_loss: 0.0242 - val_accuracy: 0.9929\n",
            "Epoch 5/30\n",
            "1864/1875 [============================>.] - ETA: 0s - loss: 0.0318 - accuracy: 0.9907\n",
            "Epoch 5: val_accuracy did not improve from 0.99290\n",
            "1875/1875 [==============================] - 10s 5ms/step - loss: 0.0318 - accuracy: 0.9907 - val_loss: 0.0235 - val_accuracy: 0.9927\n",
            "Epoch 6/30\n",
            "1870/1875 [============================>.] - ETA: 0s - loss: 0.0277 - accuracy: 0.9923\n",
            "Epoch 6: val_accuracy did not improve from 0.99290\n",
            "1875/1875 [==============================] - 10s 5ms/step - loss: 0.0277 - accuracy: 0.9923 - val_loss: 0.0251 - val_accuracy: 0.9917\n",
            "Epoch 7/30\n",
            "1875/1875 [==============================] - ETA: 0s - loss: 0.0242 - accuracy: 0.9932\n",
            "Epoch 7: val_accuracy did not improve from 0.99290\n",
            "1875/1875 [==============================] - 10s 5ms/step - loss: 0.0242 - accuracy: 0.9932 - val_loss: 0.0311 - val_accuracy: 0.9920\n",
            "Epoch 8/30\n",
            "1871/1875 [============================>.] - ETA: 0s - loss: 0.0220 - accuracy: 0.9938\n",
            "Epoch 8: val_accuracy improved from 0.99290 to 0.99370, saving model to best_model.hdf5\n",
            "1875/1875 [==============================] - 10s 5ms/step - loss: 0.0220 - accuracy: 0.9937 - val_loss: 0.0230 - val_accuracy: 0.9937\n",
            "Epoch 9/30\n",
            "1870/1875 [============================>.] - ETA: 0s - loss: 0.0195 - accuracy: 0.9944\n",
            "Epoch 9: val_accuracy did not improve from 0.99370\n",
            "1875/1875 [==============================] - 10s 5ms/step - loss: 0.0195 - accuracy: 0.9944 - val_loss: 0.0291 - val_accuracy: 0.9928\n",
            "Epoch 10/30\n",
            "1872/1875 [============================>.] - ETA: 0s - loss: 0.0181 - accuracy: 0.9948\n",
            "Epoch 10: val_accuracy did not improve from 0.99370\n",
            "1875/1875 [==============================] - 10s 5ms/step - loss: 0.0181 - accuracy: 0.9948 - val_loss: 0.0239 - val_accuracy: 0.9936\n",
            "Epoch 11/30\n",
            "1870/1875 [============================>.] - ETA: 0s - loss: 0.0164 - accuracy: 0.9952\n",
            "Epoch 11: val_accuracy did not improve from 0.99370\n",
            "1875/1875 [==============================] - 9s 5ms/step - loss: 0.0165 - accuracy: 0.9952 - val_loss: 0.0346 - val_accuracy: 0.9923\n",
            "Epoch 12/30\n",
            "1863/1875 [============================>.] - ETA: 0s - loss: 0.0135 - accuracy: 0.9961\n",
            "Epoch 12: val_accuracy did not improve from 0.99370\n",
            "1875/1875 [==============================] - 9s 5ms/step - loss: 0.0136 - accuracy: 0.9961 - val_loss: 0.0313 - val_accuracy: 0.9932\n",
            "Epoch 13/30\n",
            "1874/1875 [============================>.] - ETA: 0s - loss: 0.0168 - accuracy: 0.9954\n",
            "Epoch 13: val_accuracy improved from 0.99370 to 0.99400, saving model to best_model.hdf5\n",
            "1875/1875 [==============================] - 10s 5ms/step - loss: 0.0168 - accuracy: 0.9954 - val_loss: 0.0289 - val_accuracy: 0.9940\n",
            "Epoch 14/30\n",
            "1873/1875 [============================>.] - ETA: 0s - loss: 0.0146 - accuracy: 0.9963\n",
            "Epoch 14: val_accuracy did not improve from 0.99400\n",
            "1875/1875 [==============================] - 10s 5ms/step - loss: 0.0146 - accuracy: 0.9963 - val_loss: 0.0321 - val_accuracy: 0.9928\n",
            "Epoch 15/30\n",
            "1871/1875 [============================>.] - ETA: 0s - loss: 0.0132 - accuracy: 0.9964\n",
            "Epoch 15: val_accuracy improved from 0.99400 to 0.99410, saving model to best_model.hdf5\n",
            "1875/1875 [==============================] - 10s 5ms/step - loss: 0.0132 - accuracy: 0.9964 - val_loss: 0.0253 - val_accuracy: 0.9941\n",
            "Epoch 16/30\n",
            "1865/1875 [============================>.] - ETA: 0s - loss: 0.0121 - accuracy: 0.9965\n",
            "Epoch 16: val_accuracy did not improve from 0.99410\n",
            "1875/1875 [==============================] - 9s 5ms/step - loss: 0.0123 - accuracy: 0.9965 - val_loss: 0.0316 - val_accuracy: 0.9925\n",
            "Epoch 17/30\n",
            "1864/1875 [============================>.] - ETA: 0s - loss: 0.0103 - accuracy: 0.9970\n",
            "Epoch 17: val_accuracy did not improve from 0.99410\n",
            "1875/1875 [==============================] - 11s 6ms/step - loss: 0.0105 - accuracy: 0.9970 - val_loss: 0.0312 - val_accuracy: 0.9939\n",
            "Epoch 18/30\n",
            "1866/1875 [============================>.] - ETA: 0s - loss: 0.0099 - accuracy: 0.9973\n",
            "Epoch 18: val_accuracy did not improve from 0.99410\n",
            "1875/1875 [==============================] - 10s 5ms/step - loss: 0.0099 - accuracy: 0.9973 - val_loss: 0.0369 - val_accuracy: 0.9932\n",
            "Epoch 19/30\n",
            "1875/1875 [==============================] - ETA: 0s - loss: 0.0115 - accuracy: 0.9970\n",
            "Epoch 19: val_accuracy did not improve from 0.99410\n",
            "1875/1875 [==============================] - 10s 5ms/step - loss: 0.0115 - accuracy: 0.9970 - val_loss: 0.0420 - val_accuracy: 0.9936\n",
            "Epoch 20/30\n",
            "1865/1875 [============================>.] - ETA: 0s - loss: 0.0109 - accuracy: 0.9970\n",
            "Epoch 20: val_accuracy did not improve from 0.99410\n",
            "1875/1875 [==============================] - 9s 5ms/step - loss: 0.0109 - accuracy: 0.9970 - val_loss: 0.0320 - val_accuracy: 0.9941\n"
          ]
        }
      ]
    },
    {
      "cell_type": "code",
      "source": [
        "# visualizzo graficamente l'andamento del training e dell'accuratezza nelle previsioni\n",
        "plt.plot(history.history['accuracy'], label='Training')\n",
        "plt.plot(history.history['val_accuracy'], label='Test')\n",
        "plt.grid()\n",
        "plt.legend()\n",
        "plt.xlabel('Numero di epoche')\n",
        "plt.ylabel('Accuratezza')\n",
        "plt.show()\n",
        "# questo andamento si chiama overfitting perchè l'accuratesta e il training ad un certo punto si separano\n",
        "# nella quarta lezione abbiamo ingrandito la rete e aumentato l'accuratezza della previsione"
      ],
      "metadata": {
        "colab": {
          "base_uri": "https://localhost:8080/",
          "height": 283
        },
        "id": "oxaAyxI_k3-Y",
        "outputId": "94feef11-7108-43e5-a488-416d29d9f1aa"
      },
      "execution_count": null,
      "outputs": [
        {
          "output_type": "display_data",
          "data": {
            "text/plain": [
              "<Figure size 432x288 with 1 Axes>"
            ],
            "image/png": "[encoded data removed]"
          },
          "metadata": {
            "needs_background": "light"
          }
        }
      ]
    },
    {
      "cell_type": "code",
      "source": [
        "from keras.models import load_model\n",
        "best_model = load_model('best_model.hdf5')\n",
        "# y_pred = np.around(model.predict(X_test_scaled))[:,0]\n",
        "# y_pred = np.argmax(model.predict(X_test_scaled), axis=1)\n",
        "y_pred = np.argmax(best_model.predict(X_test_tensor), axis=1)\n",
        "y_pred"
      ],
      "metadata": {
        "colab": {
          "base_uri": "https://localhost:8080/"
        },
        "id": "_sbfTEST2GAA",
        "outputId": "2f2dfe9e-8c95-4f71-cbb6-3723d79582f5"
      },
      "execution_count": null,
      "outputs": [
        {
          "output_type": "stream",
          "name": "stdout",
          "text": [
            "313/313 [==============================] - 1s 2ms/step\n"
          ]
        },
        {
          "output_type": "execute_result",
          "data": {
            "text/plain": [
              "array([7, 2, 1, ..., 4, 5, 6])"
            ]
          },
          "metadata": {},
          "execution_count": 107
        }
      ]
    },
    {
      "cell_type": "code",
      "source": [
        "y_pred[0:10]"
      ],
      "metadata": {
        "colab": {
          "base_uri": "https://localhost:8080/"
        },
        "id": "jlM3fzyKlDIH",
        "outputId": "7f4e9f91-3d2b-48c8-e579-6347072949f1"
      },
      "execution_count": null,
      "outputs": [
        {
          "output_type": "execute_result",
          "data": {
            "text/plain": [
              "array([7, 2, 1, 0, 4, 1, 4, 9, 5, 9])"
            ]
          },
          "metadata": {},
          "execution_count": 108
        }
      ]
    },
    {
      "cell_type": "code",
      "source": [
        "# questo rappresenta lo score\n",
        "np.mean(y_pred == y_test)"
      ],
      "metadata": {
        "colab": {
          "base_uri": "https://localhost:8080/"
        },
        "id": "q8z8V3P9lScf",
        "outputId": "3ca1494b-4467-42b0-c6b8-776216a11a32"
      },
      "execution_count": null,
      "outputs": [
        {
          "output_type": "execute_result",
          "data": {
            "text/plain": [
              "0.9941"
            ]
          },
          "metadata": {},
          "execution_count": 123
        }
      ]
    },
    {
      "cell_type": "code",
      "source": [
        "plt.figure(figsize=(10,10))\n",
        "for i in range(24):\n",
        "  plt.subplot(6,4,i+1)\n",
        "  plt.imshow(X_test[i,:])\n",
        "  plt.title('Predicted:'+str(y_pred[i]))\n",
        "plt.tight_layout()\n",
        "plt.show()"
      ],
      "metadata": {
        "colab": {
          "base_uri": "https://localhost:8080/",
          "height": 729
        },
        "id": "s6H-ygZIfydN",
        "outputId": "20a21a88-4c6c-4b59-c32d-3825d2583388"
      },
      "execution_count": null,
      "outputs": [
        {
          "output_type": "display_data",
          "data": {
            "text/plain": [
              "<Figure size 720x720 with 24 Axes>"
            ],
            "image/png": "[encoded data removed]"
          },
          "metadata": {
            "needs_background": "light"
          }
        }
      ]
    },
    {
      "cell_type": "code",
      "source": [
        "from sklearn.metrics import confusion_matrix\n",
        "confusion_matrix(y_test, y_pred)"
      ],
      "metadata": {
        "colab": {
          "base_uri": "https://localhost:8080/"
        },
        "id": "oo63zmrFnwmH",
        "outputId": "76607a12-6d72-4a8c-9396-a8365d6d2a36"
      },
      "execution_count": null,
      "outputs": [
        {
          "output_type": "execute_result",
          "data": {
            "text/plain": [
              "array([[ 976,    1,    1,    0,    0,    0,    0,    1,    1,    0],\n",
              "       [   0, 1135,    0,    0,    0,    0,    0,    0,    0,    0],\n",
              "       [   0,    0, 1027,    0,    0,    0,    1,    3,    1,    0],\n",
              "       [   0,    0,    0, 1006,    0,    2,    0,    0,    1,    1],\n",
              "       [   0,    0,    0,    0,  978,    0,    2,    0,    0,    2],\n",
              "       [   0,    0,    0,    6,    0,  884,    1,    0,    0,    1],\n",
              "       [   1,    3,    1,    0,    0,    1,  950,    0,    2,    0],\n",
              "       [   0,    4,    4,    1,    0,    0,    0, 1018,    0,    1],\n",
              "       [   0,    0,    1,    1,    1,    2,    0,    0,  967,    2],\n",
              "       [   1,    0,    0,    1,    4,    3,    0,    0,    0, 1000]])"
            ]
          },
          "metadata": {},
          "execution_count": 121
        }
      ]
    },
    {
      "cell_type": "code",
      "source": [
        "# da informazioni sul migliore modello salvato\n",
        "best_model.summary()"
      ],
      "metadata": {
        "colab": {
          "base_uri": "https://localhost:8080/"
        },
        "id": "iGrEyxJkDocK",
        "outputId": "0ca76a87-bbbc-4c35-e15f-fa3c688f6c2f"
      },
      "execution_count": null,
      "outputs": [
        {
          "output_type": "stream",
          "name": "stdout",
          "text": [
            "Model: \"sequential_11\"\n",
            "_________________________________________________________________\n",
            " Layer (type)                Output Shape              Param #   \n",
            "=================================================================\n",
            " conv2d_5 (Conv2D)           (None, 28, 28, 24)        624       \n",
            "                                                                 \n",
            " average_pooling2d_5 (Averag  (None, 14, 14, 24)       0         \n",
            " ePooling2D)                                                     \n",
            "                                                                 \n",
            " conv2d_6 (Conv2D)           (None, 10, 10, 64)        38464     \n",
            "                                                                 \n",
            " average_pooling2d_6 (Averag  (None, 5, 5, 64)         0         \n",
            " ePooling2D)                                                     \n",
            "                                                                 \n",
            " flatten_2 (Flatten)         (None, 1600)              0         \n",
            "                                                                 \n",
            " dense_19 (Dense)            (None, 480)               768480    \n",
            "                                                                 \n",
            " dropout_4 (Dropout)         (None, 480)               0         \n",
            "                                                                 \n",
            " dense_20 (Dense)            (None, 336)               161616    \n",
            "                                                                 \n",
            " dropout_5 (Dropout)         (None, 336)               0         \n",
            "                                                                 \n",
            " dense_21 (Dense)            (None, 10)                3370      \n",
            "                                                                 \n",
            "=================================================================\n",
            "Total params: 972,554\n",
            "Trainable params: 972,554\n",
            "Non-trainable params: 0\n",
            "_________________________________________________________________\n"
          ]
        }
      ]
    },
    {
      "cell_type": "code",
      "source": [
        "input_dim = 784\n",
        "layer1_dim = 1000\n",
        "layer2_dim = 1000\n",
        "output_dim = 10\n",
        "\n",
        "parameter1 = input_dim*layer1_dim + layer1_dim\n",
        "print(parameter1)\n",
        "\n",
        "parameter2 = layer1_dim*layer2_dim + layer2_dim\n",
        "print(parameter2)\n",
        "\n",
        "parameter3 = layer2_dim*output_dim + output_dim\n",
        "print(parameter3)\n",
        "\n",
        "parameter1+parameter2+parameter3"
      ],
      "metadata": {
        "id": "WDWu8WjNEpeS"
      },
      "execution_count": null,
      "outputs": []
    },
    {
      "cell_type": "code",
      "source": [],
      "metadata": {
        "id": "jKApU_RMFjWo"
      },
      "execution_count": null,
      "outputs": []
    }
  ]
}