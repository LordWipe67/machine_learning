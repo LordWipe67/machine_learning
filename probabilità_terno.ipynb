{
  "nbformat": 4,
  "nbformat_minor": 0,
  "metadata": {
    "colab": {
      "provenance": [],
      "mount_file_id": "1_oeklQ8lNyiPs_mEbGK9juDlY9PDufya",
      "authorship_tag": "ABX9TyMmDTAdWgAKRncFcMJYFpso",
      "include_colab_link": true
    },
    "kernelspec": {
      "name": "python3",
      "display_name": "Python 3"
    },
    "language_info": {
      "name": "python"
    },
    "accelerator": "GPU",
    "gpuClass": "standard"
  },
  "cells": [
    {
      "cell_type": "markdown",
      "metadata": {
        "id": "view-in-github",
        "colab_type": "text"
      },
      "source": [
        "<a href=\"https://colab.research.google.com/github/LordWipe67/machine_learning/blob/main/probabilit%C3%A0_terno.ipynb\" target=\"_parent\"><img src=\"https://colab.research.google.com/assets/colab-badge.svg\" alt=\"Open In Colab\"/></a>"
      ]
    },
    {
      "cell_type": "code",
      "execution_count": null,
      "metadata": {
        "id": "miDUpJQuZL6y"
      },
      "outputs": [],
      "source": [
        "import pandas as pd\n",
        "from itertools import combinations\n",
        "\n",
        "# Caricamento dei dati dal file CSV in un DataFrame\n",
        "lotto_data = pd.read_csv('/content/drive/MyDrive/Python27/ArchivioLottoRidotto.csv', header=None, names=['n1', 'n2', 'n3', 'n4', 'n5'])\n",
        "\n",
        "# Calcolo delle frequenze di ogni combinazione di 3 numeri\n",
        "combinations_freq = {}\n",
        "for combination in combinations(lotto_data.values.flatten(), 3):\n",
        "    combination = sorted(combination)\n",
        "    key = tuple(combination)\n",
        "    combinations_freq[key] = combinations_freq.get(key, 0) + 1\n",
        "\n",
        "# Calcolo delle probabilità di ogni combinazione di 3 numeri\n",
        "total_combinations = len(lotto_data) * 10\n",
        "combinations_probs = {combination: freq/total_combinations for combination, freq in combinations_freq.items()}\n",
        "\n",
        "# Identificazione della combinazione di 3 numeri con maggiore probabilità di estrazione\n",
        "most_frequent_combination = max(combinations_probs, key=combinations_probs.get)\n",
        "\n",
        "# Stampa delle probabilità e della combinazione di 3 numeri con maggiore probabilità\n",
        "print(\"Probabilità di ogni combinazione di 3 numeri:\")\n",
        "for combination, prob in combinations_probs.items():\n",
        "    print(f\"{combination}: {prob:.6f}\")\n",
        "print(\"\\nLa combinazione di 3 numeri con maggiore probabilità di estrazione è:\", most_frequent_combination)\n"
      ]
    }
  ]
}